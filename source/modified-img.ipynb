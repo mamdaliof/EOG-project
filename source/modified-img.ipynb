{
 "cells": [
  {
   "cell_type": "code",
   "execution_count": null,
   "metadata": {},
   "outputs": [],
   "source": [
    "import cv2\n",
    "import numpy as np\n",
    "import tkinter as tk\n",
    "import pyautogui \n",
    "import datetime\n",
    "import random\n",
    "from PIL import Image, ImageTk\n",
    "\n",
    "# img_add = ['image1.png', 'image2.png']\n",
    "\n",
    "# store original images and text images in a list:\n",
    "img_add = [['img001-txt.png', 'img001.jpg'],\n",
    "           ['img002-txt.png', 'img002.jpg'],\n",
    "           ['img003-txt.png', 'img003.jpg'],\n",
    "           ['img004-txt.png', 'img004.jpg'],\n",
    "           ['img005-txt.png', 'img005.jpg'],\n",
    "           ['img006-txt.png', 'img006.jpg'],\n",
    "           ['img007-txt.png', 'img007.jpg'],\n",
    "           ['img008-txt.png', 'img008.jpg'],\n",
    "           ['img009-txt.png', 'img009.jpg'],\n",
    "           ['img010-txt.png', 'img010.jpg'],\n",
    "           ['img011-txt.png', 'img011.jpg'],\n",
    "           ['img012-txt.png', 'img012.jpg'],\n",
    "           ['img013-txt.png', 'img013.jpg'],\n",
    "           ['img014-txt.png', 'img014.jpg'],\n",
    "           ['img015-txt.png', 'img015.jpg'],\n",
    "           ['img016-txt.png', 'img016.jpg'],\n",
    "           ['img017-txt.png', 'img017.jpg'],\n",
    "           ['img018-txt.png', 'img018.jpg'],\n",
    "           ['img019-txt.png', 'img019.jpg'],\n",
    "           ['img020-txt.png', 'img020.jpg'],\n",
    "           ['img021-txt.png', 'img021.jpg']]\n",
    "\n",
    "# shuffle dataset for each participant\n",
    "\n",
    "# random.shuffle(img_add)\n",
    "\n",
    "# li = list(range(len(img_add)))\n",
    "# img_add = random.sample(img_add, len(li))\n",
    "\n",
    "pos = []\n",
    "elapsed_time = []\n",
    "# obj_loc = np.array([[2, 3], [1, 2]])\n",
    "# table = np.zeros((len(img_add), 1))\n",
    "# obj_loc_sel = np.zeros((len(img_add), 2))\n",
    "\n",
    "def current_time():\n",
    "    # Get current system time\n",
    "    current_time = datetime.datetime.now()\n",
    "\n",
    "    # Format time in desired format\n",
    "    formatted_time = current_time.strftime(\"%m/%d/%Y, %H:%M:%S:%f\")\n",
    "\n",
    "    return formatted_time\n",
    "\n",
    "def mouse_callback(event, x, y, flags, params):\n",
    "    if event == cv2.EVENT_LBUTTONUP:\n",
    "        pos.append([x, y])\n",
    "        elapsed_time.append((cv2.getTickCount() - start_time) / cv2.getTickFrequency())\n",
    "        # obj_loc_sel[img_index, 1] = 1 + int(x / 330)\n",
    "        # obj_loc_sel[img_index, 0] = 1 + int(y / 230)\n",
    "        cv2.destroyAllWindows()\n"
   ]
  },
  {
   "cell_type": "code",
   "execution_count": 73,
   "metadata": {},
   "outputs": [
    {
     "name": "stdout",
     "output_type": "stream",
     "text": [
      "05/03/2023, 19:11:19:576929\n",
      "05/03/2023, 19:11:20:074336\n",
      "05/03/2023, 19:11:18:285366\n"
     ]
    }
   ],
   "source": [
    "# create a new window\n",
    "window = tk.Tk()\n",
    "\n",
    "# set the title of the window\n",
    "window.title(\"EOG\")\n",
    "\n",
    "# create a start button\n",
    "def on_start_button_click():\n",
    "    window.destroy()  # close the window\n",
    "\n",
    "start_button = tk.Button(window, text=\"Start\", command=on_start_button_click)\n",
    "start_button.place(x=752, y=432, relheight=0.2, relwidth=0.2, bordermode='inside')\n",
    "\n",
    "# Specifing the dimensions of the window explicitly or maximize it!\n",
    "# window.geometry(\"1000x1000+900+500\")\n",
    "window.state('zoomed')\n",
    "\n",
    "# run the main event loop to display the window\n",
    "window.mainloop()\n",
    "\n",
    "\n",
    "\n",
    "time_str = current_time() # Storing the time once the user clicks on the start button.\n",
    "\n",
    "obj_loc_sel = np.zeros((len(img_add), 2)) # to store the selected squares by user\n",
    "\n",
    "curr_time = []\n",
    "elapsed_time = []\n",
    "img_num = 1\n",
    "\n",
    "for img_index in range(img_num):\n",
    "\n",
    "    for i in range(2):\n",
    "\n",
    "        # crop_rect = (15, 115, 990, 690)\n",
    "        img = cv2.imread(img_add[img_index][i])\n",
    "        # img = img[crop_rect[1]:crop_rect[1]+crop_rect[3], crop_rect[0]:crop_rect[0]+crop_rect[2]]\n",
    "        cv2.imshow('Select and Store', img)\n",
    "        cv2.moveWindow('Select and Store', 465, 150)\n",
    "        \n",
    "        # resize the window to fit the image\n",
    "        cv2.resizeWindow('Select and Store', img.shape[1], img.shape[0])\n",
    "        \n",
    "        start_time = cv2.getTickCount()\n",
    "        cv2.setMouseCallback('Select and Store', mouse_callback)\n",
    "\n",
    "        cv2.waitKey(0)\n",
    "\n",
    "        stop_time = cv2.getTickCount()\n",
    "\n",
    "        curr_time.append(current_time())\n",
    "\n",
    "        # elapsed time in seconds\n",
    "        # elapsed_time.append(((stop_time - start_time)/ cv2.getTickFrequency())) # elapsed time in seconds\n",
    "        print(current_time())\n",
    "        cv2.destroyAllWindows()\n",
    "\n",
    "\n",
    "# for index in range(len(img_add)):\n",
    "#     if obj_loc[index, 0] == obj_loc_sel[index, 0] and obj_loc[index, 1] == obj_loc_sel[index, 1]:\n",
    "#         table[index, 0] = 1\n",
    "#     else:\n",
    "#         table[index, 0] = 0\n",
    "\n",
    "print(time_str)\n",
    "\n",
    "\n"
   ]
  },
  {
   "cell_type": "code",
   "execution_count": null,
   "metadata": {},
   "outputs": [],
   "source": [
    "random.shuffle(img_add)\n",
    "print(img_add)"
   ]
  },
  {
   "cell_type": "code",
   "execution_count": 62,
   "metadata": {},
   "outputs": [],
   "source": [
    "wind = tk.Tk()\n",
    "\n",
    "wind.title('Test')\n",
    "\n",
    "button = tk.Button(wind, text='Arash')\n",
    "wind.geometry(\"500x500+660+340\")\n",
    "\n",
    "# button.place(x=250, y=250)\n",
    "button.place(x=200, y=200, relheight=0.2, relwidth=0.2, bordermode='inside')\n",
    "\n",
    "# button.pack(anchor='center')\n",
    "\n",
    "\n",
    "wind.mainloop()\n",
    "\n"
   ]
  },
  {
   "cell_type": "code",
   "execution_count": 35,
   "metadata": {},
   "outputs": [],
   "source": [
    "screen_width, screen_height = pyautogui.size() # Width = 1920 , Height = 1080 "
   ]
  },
  {
   "attachments": {},
   "cell_type": "markdown",
   "metadata": {},
   "source": [
    "# Changing The Game!\n",
    "\n",
    "**Create a window including the start button as the root window. once the user clicks on the button, the first image will be shown along with the NEXT button. As the participant clicks on the image, the corresponding square turns into a shaded square. the user can go to the next step by clicking on the NEXT button!**"
   ]
  },
  {
   "cell_type": "code",
   "execution_count": 81,
   "metadata": {},
   "outputs": [],
   "source": [
    "# Import required libraries\n",
    "from tkinter import *\n",
    "from PIL import ImageTk, Image\n",
    "\n",
    "# Create an instance of tkinter window\n",
    "win = Tk()\n",
    "\n",
    "# Define the geometry of the window\n",
    "# win.geometry(\"700x500\")\n",
    "win.state('zoomed')\n",
    "\n",
    "frame = Frame(win, width=600, height=400)\n",
    "frame.pack()\n",
    "frame.place(anchor='center', relx=0.5, rely=0.5)\n",
    "\n",
    "# Create an object of tkinter ImageTk\n",
    "img = ImageTk.PhotoImage(Image.open(\"imgtest.jpg\"))\n",
    "\n",
    "# Create a Label Widget to display the text or Image\n",
    "label = Label(frame, image = img)\n",
    "label.pack()\n",
    "\n",
    "win.mainloop()"
   ]
  },
  {
   "cell_type": "code",
   "execution_count": 2,
   "metadata": {},
   "outputs": [
    {
     "ename": "TclError",
     "evalue": "image \"img002.jpg\" doesn't exist",
     "output_type": "error",
     "traceback": [
      "\u001b[1;31m---------------------------------------------------------------------------\u001b[0m",
      "\u001b[1;31mTclError\u001b[0m                                  Traceback (most recent call last)",
      "Cell \u001b[1;32mIn[2], line 16\u001b[0m\n\u001b[0;32m     13\u001b[0m frame\u001b[39m.\u001b[39mpack()\n\u001b[0;32m     14\u001b[0m frame\u001b[39m.\u001b[39mplace(anchor\u001b[39m=\u001b[39m\u001b[39m'\u001b[39m\u001b[39mcenter\u001b[39m\u001b[39m'\u001b[39m, relx\u001b[39m=\u001b[39m\u001b[39m0.5\u001b[39m, rely\u001b[39m=\u001b[39m\u001b[39m0.5\u001b[39m)\n\u001b[1;32m---> 16\u001b[0m label \u001b[39m=\u001b[39m Label(frame, image \u001b[39m=\u001b[39;49m img)\n\u001b[0;32m     17\u001b[0m label\u001b[39m.\u001b[39mpack()\n\u001b[0;32m     19\u001b[0m root\u001b[39m.\u001b[39mmainloop()\n",
      "File \u001b[1;32mc:\\Users\\Arash\\miniconda3\\envs\\arash\\lib\\tkinter\\__init__.py:3145\u001b[0m, in \u001b[0;36mLabel.__init__\u001b[1;34m(self, master, cnf, **kw)\u001b[0m\n\u001b[0;32m   3127\u001b[0m \u001b[39mdef\u001b[39;00m \u001b[39m__init__\u001b[39m(\u001b[39mself\u001b[39m, master\u001b[39m=\u001b[39m\u001b[39mNone\u001b[39;00m, cnf\u001b[39m=\u001b[39m{}, \u001b[39m*\u001b[39m\u001b[39m*\u001b[39mkw):\n\u001b[0;32m   3128\u001b[0m     \u001b[39m\"\"\"Construct a label widget with the parent MASTER.\u001b[39;00m\n\u001b[0;32m   3129\u001b[0m \n\u001b[0;32m   3130\u001b[0m \u001b[39m    STANDARD OPTIONS\u001b[39;00m\n\u001b[1;32m   (...)\u001b[0m\n\u001b[0;32m   3143\u001b[0m \n\u001b[0;32m   3144\u001b[0m \u001b[39m    \"\"\"\u001b[39;00m\n\u001b[1;32m-> 3145\u001b[0m     Widget\u001b[39m.\u001b[39;49m\u001b[39m__init__\u001b[39;49m(\u001b[39mself\u001b[39;49m, master, \u001b[39m'\u001b[39;49m\u001b[39mlabel\u001b[39;49m\u001b[39m'\u001b[39;49m, cnf, kw)\n",
      "File \u001b[1;32mc:\\Users\\Arash\\miniconda3\\envs\\arash\\lib\\tkinter\\__init__.py:2569\u001b[0m, in \u001b[0;36mBaseWidget.__init__\u001b[1;34m(self, master, widgetName, cnf, kw, extra)\u001b[0m\n\u001b[0;32m   2567\u001b[0m \u001b[39mfor\u001b[39;00m k, v \u001b[39min\u001b[39;00m classes:\n\u001b[0;32m   2568\u001b[0m     \u001b[39mdel\u001b[39;00m cnf[k]\n\u001b[1;32m-> 2569\u001b[0m \u001b[39mself\u001b[39;49m\u001b[39m.\u001b[39;49mtk\u001b[39m.\u001b[39;49mcall(\n\u001b[0;32m   2570\u001b[0m     (widgetName, \u001b[39mself\u001b[39;49m\u001b[39m.\u001b[39;49m_w) \u001b[39m+\u001b[39;49m extra \u001b[39m+\u001b[39;49m \u001b[39mself\u001b[39;49m\u001b[39m.\u001b[39;49m_options(cnf))\n\u001b[0;32m   2571\u001b[0m \u001b[39mfor\u001b[39;00m k, v \u001b[39min\u001b[39;00m classes:\n\u001b[0;32m   2572\u001b[0m     k\u001b[39m.\u001b[39mconfigure(\u001b[39mself\u001b[39m, v)\n",
      "\u001b[1;31mTclError\u001b[0m: image \"img002.jpg\" doesn't exist"
     ]
    }
   ],
   "source": [
    "from tkinter import *\n",
    "from PIL import ImageTk, Image\n",
    "\n",
    "lst = ['img001-txt.png', 'img001.jpg']\n",
    "\n",
    "img = ['img002.jpg']\n",
    "\n",
    "root = Tk()\n",
    "\n",
    "root.state('zoomed')\n",
    "\n",
    "frame = Frame(root, width=600, height=400)\n",
    "frame.pack()\n",
    "frame.place(anchor='center', relx=0.5, rely=0.5)\n",
    "\n",
    "label = Label(frame, image = img)\n",
    "label.pack()\n",
    "\n",
    "root.mainloop()\n",
    "\n",
    "for i in range(2):\n",
    "\n",
    "    # Create an object of tkinter ImageTk\n",
    "    img = ImageTk.PhotoImage(Image.open(lst[i]))\n",
    "\n",
    "    # Create a Label Widget to display the text or Image\n",
    "    label = Label(frame, image = img)\n",
    "\n",
    "\n"
   ]
  },
  {
   "cell_type": "code",
   "execution_count": 84,
   "metadata": {},
   "outputs": [
    {
     "data": {
      "text/plain": [
       "'img001.jpg'"
      ]
     },
     "execution_count": 84,
     "metadata": {},
     "output_type": "execute_result"
    }
   ],
   "source": [
    "lst = ['img001-txt.png', 'img001.jpg']\n",
    "lst[1]"
   ]
  }
 ],
 "metadata": {
  "kernelspec": {
   "display_name": "arash",
   "language": "python",
   "name": "python3"
  },
  "language_info": {
   "codemirror_mode": {
    "name": "ipython",
    "version": 3
   },
   "file_extension": ".py",
   "mimetype": "text/x-python",
   "name": "python",
   "nbconvert_exporter": "python",
   "pygments_lexer": "ipython3",
   "version": "3.9.0"
  },
  "orig_nbformat": 4
 },
 "nbformat": 4,
 "nbformat_minor": 2
}
