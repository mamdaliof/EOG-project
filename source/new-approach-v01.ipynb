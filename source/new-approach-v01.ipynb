{
 "cells": [
  {
   "cell_type": "code",
   "execution_count": 2,
   "metadata": {},
   "outputs": [],
   "source": [
    "import tkinter as tk\n",
    "from PIL import Image, ImageTk\n",
    "import os \n",
    "\n",
    "# os.chdir(os.getcwd())\n",
    "\n",
    "\n",
    "# create a start button\n",
    "def on_start_button_click():\n",
    "    window.destroy()  # close the window\n",
    "\n",
    "\n",
    "x_1 = ''\n",
    "x_2 = ''\n",
    "x_3 = ''\n",
    "x_4 = ''\n",
    "x_5 = ''\n",
    "x_6 = ''\n",
    "\n",
    "var_list = [[x_1, x_2, x_3], \n",
    "            [x_4, x_5, x_6]]\n",
    "\n",
    "\n",
    "img_add = [['s01.jpg','s02.jpg','s03.jpg'],\n",
    "           ['s04.jpg','s05.jpg','s06.jpg']]\n",
    "\n",
    "window = tk.Tk()\n",
    "\n",
    "for i in range(2):\n",
    "    for j in range(3):\n",
    "        frame = tk.Frame(\n",
    "            master=window,\n",
    "            # relief=tk.RAISED,\n",
    "            borderwidth=1\n",
    "        )\n",
    "        # frame.grid(row=i, column=j, padx=5, pady=5)\n",
    "        frame.grid(row=i, column=j)\n",
    "        var_list[i][j] = ImageTk.PhotoImage(Image.open(img_add[i][j]))\n",
    "        # label = tk.Label(master=frame, text=f\"Row {i}\\nColumn {j}\")\n",
    "        label = tk.Label(master=frame, image=var_list[i][j])\n",
    "        start_button = tk.Button(window, text='Start', width=10, height=5, command=on_start_button_click)\n",
    "        start_button.grid(row=3,column=1)\n",
    "        label.pack()\n",
    "\n",
    "window.mainloop()"
   ]
  },
  {
   "cell_type": "code",
   "execution_count": null,
   "metadata": {},
   "outputs": [],
   "source": [
    "start_button = tk.Button(root, text='Start', width=10, height=5, command=on_start_button_click)\n",
    "start_button.pack()\n",
    "\n",
    "# create a start button\n",
    "def on_start_button_click():\n",
    "    root.destroy()  # close the window"
   ]
  }
 ],
 "metadata": {
  "kernelspec": {
   "display_name": "arash",
   "language": "python",
   "name": "python3"
  },
  "language_info": {
   "codemirror_mode": {
    "name": "ipython",
    "version": 3
   },
   "file_extension": ".py",
   "mimetype": "text/x-python",
   "name": "python",
   "nbconvert_exporter": "python",
   "pygments_lexer": "ipython3",
   "version": "3.9.0"
  },
  "orig_nbformat": 4
 },
 "nbformat": 4,
 "nbformat_minor": 2
}
