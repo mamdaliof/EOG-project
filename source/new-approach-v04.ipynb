{
 "cells": [
  {
   "cell_type": "code",
   "execution_count": 1,
   "metadata": {},
   "outputs": [
    {
     "name": "stdout",
     "output_type": "stream",
     "text": [
      "{'in': <tkinter.Tk object .>, 'column': 0, 'row': 0, 'columnspan': 1, 'rowspan': 1, 'ipadx': 0, 'ipady': 0, 'padx': 0, 'pady': 0, 'sticky': ''}\n",
      "{'in': <tkinter.Tk object .>, 'column': 1, 'row': 0, 'columnspan': 1, 'rowspan': 1, 'ipadx': 0, 'ipady': 0, 'padx': 0, 'pady': 0, 'sticky': ''}\n",
      "{'in': <tkinter.Tk object .>, 'column': 2, 'row': 0, 'columnspan': 1, 'rowspan': 1, 'ipadx': 0, 'ipady': 0, 'padx': 0, 'pady': 0, 'sticky': ''}\n",
      "{'in': <tkinter.Tk object .>, 'column': 2, 'row': 1, 'columnspan': 1, 'rowspan': 1, 'ipadx': 0, 'ipady': 0, 'padx': 0, 'pady': 0, 'sticky': ''}\n",
      "{'in': <tkinter.Tk object .>, 'column': 1, 'row': 1, 'columnspan': 1, 'rowspan': 1, 'ipadx': 0, 'ipady': 0, 'padx': 0, 'pady': 0, 'sticky': ''}\n",
      "{'in': <tkinter.Tk object .>, 'column': 0, 'row': 1, 'columnspan': 1, 'rowspan': 1, 'ipadx': 0, 'ipady': 0, 'padx': 0, 'pady': 0, 'sticky': ''}\n",
      "{'in': <tkinter.Tk object .>, 'column': 0, 'row': 0, 'columnspan': 1, 'rowspan': 1, 'ipadx': 0, 'ipady': 0, 'padx': 0, 'pady': 0, 'sticky': ''}\n",
      "{'in': <tkinter.Tk object .>, 'column': 1, 'row': 0, 'columnspan': 1, 'rowspan': 1, 'ipadx': 0, 'ipady': 0, 'padx': 0, 'pady': 0, 'sticky': ''}\n",
      "{'in': <tkinter.Tk object .>, 'column': 2, 'row': 0, 'columnspan': 1, 'rowspan': 1, 'ipadx': 0, 'ipady': 0, 'padx': 0, 'pady': 0, 'sticky': ''}\n",
      "{'in': <tkinter.Tk object .>, 'column': 2, 'row': 1, 'columnspan': 1, 'rowspan': 1, 'ipadx': 0, 'ipady': 0, 'padx': 0, 'pady': 0, 'sticky': ''}\n",
      "{'in': <tkinter.Tk object .>, 'column': 1, 'row': 1, 'columnspan': 1, 'rowspan': 1, 'ipadx': 0, 'ipady': 0, 'padx': 0, 'pady': 0, 'sticky': ''}\n",
      "{'in': <tkinter.Tk object .>, 'column': 0, 'row': 1, 'columnspan': 1, 'rowspan': 1, 'ipadx': 0, 'ipady': 0, 'padx': 0, 'pady': 0, 'sticky': ''}\n",
      "{'in': <tkinter.Tk object .>, 'column': 1, 'row': 1, 'columnspan': 1, 'rowspan': 1, 'ipadx': 0, 'ipady': 0, 'padx': 0, 'pady': 0, 'sticky': ''}\n",
      "{'in': <tkinter.Tk object .>, 'column': 2, 'row': 1, 'columnspan': 1, 'rowspan': 1, 'ipadx': 0, 'ipady': 0, 'padx': 0, 'pady': 0, 'sticky': ''}\n",
      "{'in': <tkinter.Tk object .>, 'column': 2, 'row': 0, 'columnspan': 1, 'rowspan': 1, 'ipadx': 0, 'ipady': 0, 'padx': 0, 'pady': 0, 'sticky': ''}\n",
      "{'in': <tkinter.Tk object .>, 'column': 1, 'row': 0, 'columnspan': 1, 'rowspan': 1, 'ipadx': 0, 'ipady': 0, 'padx': 0, 'pady': 0, 'sticky': ''}\n",
      "{'in': <tkinter.Tk object .>, 'column': 1, 'row': 1, 'columnspan': 1, 'rowspan': 1, 'ipadx': 0, 'ipady': 0, 'padx': 0, 'pady': 0, 'sticky': ''}\n",
      "{'in': <tkinter.Tk object .>, 'column': 2, 'row': 1, 'columnspan': 1, 'rowspan': 1, 'ipadx': 0, 'ipady': 0, 'padx': 0, 'pady': 0, 'sticky': ''}\n",
      "{'in': <tkinter.Tk object .>, 'column': 2, 'row': 0, 'columnspan': 1, 'rowspan': 1, 'ipadx': 0, 'ipady': 0, 'padx': 0, 'pady': 0, 'sticky': ''}\n",
      "{'in': <tkinter.Tk object .>, 'column': 1, 'row': 0, 'columnspan': 1, 'rowspan': 1, 'ipadx': 0, 'ipady': 0, 'padx': 0, 'pady': 0, 'sticky': ''}\n"
     ]
    }
   ],
   "source": [
    "import tkinter as tk\n",
    "from PIL import Image, ImageTk\n",
    "import os \n",
    "\n",
    "# os.chdir(os.getcwd())\n",
    "\n",
    "\n",
    "# create a start button\n",
    "def on_start_button_click():\n",
    "    window.destroy()  # close the window\n",
    "\n",
    "def my_func(event):\n",
    "\n",
    "    label = event.widget\n",
    "\n",
    "    print(label.grid_info())\n",
    "\n",
    "    if label[\"background\"] != 'red':\n",
    "        label.config(bg='red')\n",
    "    else:\n",
    "        label.config(bg='white')\n",
    "    \n",
    "\n",
    "\n",
    "x_1 = ''\n",
    "x_2 = ''\n",
    "x_3 = ''\n",
    "x_4 = ''\n",
    "x_5 = ''\n",
    "x_6 = ''\n",
    "x_7 = ''\n",
    "x_8 = ''\n",
    "x_9 = ''\n",
    "\n",
    "var_list = [[x_1, x_2, x_3], \n",
    "            [x_4, x_5, x_6],\n",
    "            [x_7, x_8, x_9]]\n",
    "\n",
    "\n",
    "img_add = [['s01.jpg','s02.jpg','s03.jpg'],\n",
    "           ['s04.jpg','s05.jpg','s06.jpg']]\n",
    "\n",
    "# img_add = [['img001-11.jpg', 'img001-12.jpg', 'img001-13.jpg'],\n",
    "#            ['img001-21.jpg', 'img001-22.jpg', 'img001-23.jpg'],\n",
    "#            ['img001-31.jpg', 'img001-32.jpg', 'img001-33.jpg']]\n",
    "\n",
    "window = tk.Tk()\n",
    "\n",
    "window.state('zoomed')\n",
    "\n",
    "for i in range(2):\n",
    "    for j in range(3):\n",
    "        frame = tk.Frame(\n",
    "            master=window,\n",
    "            # relief=tk.RAISED,\n",
    "            borderwidth=1\n",
    "        )\n",
    "\n",
    "        var_list[i][j] = ImageTk.PhotoImage(Image.open(img_add[i][j]))\n",
    "        label = tk.Label(master=window, image=var_list[i][j])\n",
    "        label.grid(row=i, column=j)\n",
    "\n",
    "        label.bind('<Button-1>', my_func)\n",
    "\n",
    "        start_button = tk.Button(window, text='Next', width=10, height=5, command=on_start_button_click)\n",
    "        start_button.grid(row=3,column=1)\n",
    "        \n",
    "        \n",
    "window.mainloop()"
   ]
  },
  {
   "attachments": {},
   "cell_type": "markdown",
   "metadata": {},
   "source": [
    "# Defining new variables in the loop"
   ]
  },
  {
   "cell_type": "code",
   "execution_count": null,
   "metadata": {},
   "outputs": [],
   "source": [
    "for i in range(5):\n",
    "    var_name = \"new_variable_\" + str(i)\n",
    "    exec(var_name + \" = i * 2\")"
   ]
  }
 ],
 "metadata": {
  "kernelspec": {
   "display_name": "arash",
   "language": "python",
   "name": "python3"
  },
  "language_info": {
   "codemirror_mode": {
    "name": "ipython",
    "version": 3
   },
   "file_extension": ".py",
   "mimetype": "text/x-python",
   "name": "python",
   "nbconvert_exporter": "python",
   "pygments_lexer": "ipython3",
   "version": "3.9.0"
  },
  "orig_nbformat": 4
 },
 "nbformat": 4,
 "nbformat_minor": 2
}
